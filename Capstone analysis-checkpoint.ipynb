{
 "cells": [
  {
   "cell_type": "code",
   "execution_count": 1,
   "metadata": {},
   "outputs": [],
   "source": [
    "import pandas as pd\n",
    "import numpy as np\n",
    "import matplotlib.pyplot as plt"
   ]
  },
  {
   "cell_type": "markdown",
   "metadata": {},
   "source": [
    "### LOADING IN THE DATA TO A DATAFRAME"
   ]
  },
  {
   "cell_type": "code",
   "execution_count": 2,
   "metadata": {},
   "outputs": [],
   "source": [
    "marketing_info = pd.read_csv('Data/companies-clean.csv', encoding='unicode_escape')\n",
    "MARKETING = pd.read_csv('Data/all-companies.csv', encoding='unicode_escape')\n",
    "deals_info = pd.read_csv('Data/deals.csv')"
   ]
  },
  {
   "cell_type": "markdown",
   "metadata": {},
   "source": [
    "### Building a new dataframe focused on the company industry"
   ]
  },
  {
   "cell_type": "code",
   "execution_count": 3,
   "metadata": {},
   "outputs": [],
   "source": [
    "# building a DF focused on all companies in our CRM\n",
    "\n",
    "pd.set_option(\"display.max_rows\", None, \"display.max_columns\", None)\n",
    "ind = marketing_info[['Industry', 'Count']]\n",
    "industry = pd.DataFrame(ind)\n",
    "industry = industry.groupby('Industry').agg(sum)\n",
    "total_ind = sum(industry['Count'])\n",
    "industry['Perc of Total'] = round(industry['Count']/total_ind*100, 1)\n",
    "\n",
    "\n",
    "# building a DF focused on companies in our CRM we have deals with\n",
    "\n",
    "pd.set_option(\"display.max_rows\", None, \"display.max_columns\", None)\n",
    "deal = deals_info[['Industry', 'Count']]\n",
    "deal = pd.DataFrame(deal)\n",
    "deal = deal.groupby('Industry').agg(sum)\n",
    "total_deal = sum(deal['Count'])\n",
    "deal['Perc of Total Deal'] = round(deal['Count']/total_deal*100, 1)\n",
    "\n",
    "\n",
    "# Merging the two DF\n",
    "\n",
    "industry_analyze = industry.merge(deal, left_on='Industry', right_on='Industry', how='left')\n",
    "industry_analyze = industry_analyze.fillna(0)\n",
    "industry_analyze['Perc Difference'] = round(industry_analyze['Perc of Total Deal']/industry_analyze['Perc of Total']*100, 0)\n",
    "industry_analyze = industry_analyze.rename(columns={'Count_x' : 'Overall Count', 'Count_y' : 'Deal Count'}).sort_values('Deal Count', ascending = False)\n",
    "industry_analyze.sort_values(['Perc Difference', 'Deal Count'], ascending = False)\n",
    "\n",
    "\n",
    "# Creating 2 separate DF separated by whether or not there is a deal with a company in that industry\n",
    "\n",
    "close_calls = industry_analyze[industry_analyze['Perc Difference'] == 0.0].sort_values(['Overall Count'], ascending = False)\n",
    "deal_numbers = industry_analyze[industry_analyze['Perc Difference'] != 0.0].sort_values(['Perc Difference'], ascending = False)\n",
    "deal_numbers = deal_numbers[deal_numbers['Overall Count'] != 1]"
   ]
  },
  {
   "cell_type": "markdown",
   "metadata": {},
   "source": [
    "### Building a new dataframe with specific columns to be used later"
   ]
  },
  {
   "cell_type": "code",
   "execution_count": 4,
   "metadata": {},
   "outputs": [],
   "source": [
    "# building a DF focused on companies in our CRM we have deals with\n",
    "\n",
    "company_info = deals_info[['Number of Employees', 'Annual Revenue', 'Count']]\n",
    "company_info = pd.DataFrame(company_info)\n",
    "company_info['Number of Employees'] = company_info['Number of Employees'].astype('Int64')\n",
    "company_info['Annual Revenue'] = company_info['Annual Revenue'].astype('Int64')\n",
    "\n",
    "\n",
    "# building a DF focused on all companies in our CRM\n",
    "\n",
    "total_info = marketing_info[['Number of Employees', 'Annual Revenue', 'Count']]\n",
    "total_info = pd.DataFrame(total_info)\n",
    "total_info['Number of Employees'] = total_info['Number of Employees'].astype('Int64')\n",
    "total_info['Annual Revenue'] = total_info['Annual Revenue'].astype('Int64')"
   ]
  },
  {
   "cell_type": "markdown",
   "metadata": {},
   "source": [
    "### Building a new dataframe to look at Annual Revenues"
   ]
  },
  {
   "cell_type": "code",
   "execution_count": 5,
   "metadata": {},
   "outputs": [],
   "source": [
    "# building a DF focused on companies in our CRM we have deals with\n",
    "\n",
    "company_revenue = company_info.groupby('Annual Revenue').agg({'Count' : np.sum}).sort_values('Annual Revenue')\n",
    "company_revenue.index = company_revenue.index = company_revenue.index.astype(str)\n",
    "company_revenue = company_revenue.rename(index={'1000000': '1M', '10000000': '10M', '50000000': '50M', '100000000': '100M', '250000000': '250M', '1000000000': '1B'})\n",
    "company_sum = sum(company_revenue['Count'])\n",
    "company_revenue['Perc of Deals']= round(company_revenue['Count']/company_sum*100, 1)\n",
    "\n",
    "\n",
    "# building a DF focused on all companies in our CRM\n",
    "\n",
    "all_revenue = total_info.groupby('Annual Revenue').agg({'Count' : np.sum}).sort_values('Annual Revenue')\n",
    "all_revenue.index = all_revenue.index = all_revenue.index.astype(str)\n",
    "all_revenue = all_revenue.rename(index={'1000000': '1M', '10000000': '10M', '50000000': '50M', '100000000': '100M', '250000000': '250M', '500000000': '500M','1000000000': '1B'})\n",
    "revenue_sum = sum(all_revenue['Count'])\n",
    "all_revenue['Perc of Views'] = round(all_revenue['Count']/revenue_sum*100, 1)\n",
    "\n",
    "\n",
    "# Merging the two DF\n",
    "\n",
    "rev_c = company_revenue.drop(columns = ['Count'])\n",
    "rev_a = all_revenue.drop(columns = ['Count'])\n",
    "rev_difference = rev_c.merge(rev_a, left_on ='Annual Revenue', right_on = 'Annual Revenue', how='left')"
   ]
  },
  {
   "cell_type": "code",
   "execution_count": 6,
   "metadata": {},
   "outputs": [
    {
     "data": {
      "image/png": "[encoded data removed]",
      "text/plain": [
       "<Figure size 432x288 with 1 Axes>"
      ]
     },
     "metadata": {
      "needs_background": "light"
     },
     "output_type": "display_data"
    }
   ],
   "source": [
    "ax = rev_difference.plot.bar(rot=0)"
   ]
  },
  {
   "cell_type": "markdown",
   "metadata": {},
   "source": [
    "### Building a new dataframe to look at employee numbers"
   ]
  },
  {
   "cell_type": "code",
   "execution_count": 7,
   "metadata": {},
   "outputs": [],
   "source": [
    "# building a DF focused on companies in our CRM we have deals with\n",
    "\n",
    "company_employees = company_info.groupby('Number of Employees').agg({'Count' : np.sum}).sort_values('Number of Employees')\n",
    "company_employees.index = company_employees.index.astype(str)\n",
    "employee_sum = sum(company_employees['Count'])\n",
    "company_employees['Perc of Deals'] = round(company_employees['Count']/employee_sum*100, 1)\n",
    "\n",
    "\n",
    "# building a DF focused on all companies in our CRM\n",
    "\n",
    "info_employees = total_info.groupby('Number of Employees').agg({'Count' : np.sum}).sort_values('Number of Employees')\n",
    "info_employees.index = info_employees.index.astype(str)\n",
    "info_sum = sum(info_employees['Count'])\n",
    "info_employees['Perc of Views'] = round(info_employees['Count']/info_sum*100, 1)\n",
    "\n",
    "\n",
    "# Merging the two DF\n",
    "\n",
    "emp_deals = company_employees.drop(columns = ['Count'])\n",
    "emp_views = info_employees.drop(columns = ['Count'])\n",
    "emp_difference = emp_deals.merge(emp_views, left_on='Number of Employees', right_on='Number of Employees', how='left')\n",
    "emp_difference = emp_difference.rename(index = {'10': '10', 25: '25', '50': '50', '200': '200', '500': '500', '1000': '1k', '5000': '5k', '10000': '10k +'})"
   ]
  },
  {
   "cell_type": "code",
   "execution_count": 8,
   "metadata": {},
   "outputs": [
    {
     "data": {
      "image/png": "[encoded data removed]",
      "text/plain": [
       "<Figure size 432x288 with 1 Axes>"
      ]
     },
     "metadata": {
      "needs_background": "light"
     },
     "output_type": "display_data"
    }
   ],
   "source": [
    "ax = emp_difference.plot.bar(rot=0)"
   ]
  },
  {
   "cell_type": "markdown",
   "metadata": {},
   "source": [
    "### Building a new set of dataframes to look at US time zones"
   ]
  },
  {
   "cell_type": "code",
   "execution_count": 9,
   "metadata": {},
   "outputs": [],
   "source": [
    "# building a DF focused on companies in our CRM we have deals with\n",
    "\n",
    "time_zones_deals = deals_info[['Time Zone', 'Count']]\n",
    "time_zones_deals = pd.DataFrame(time_zones_deals)\n",
    "time_zones_deals = time_zones_deals[time_zones_deals['Time Zone'] != 2]\n",
    "time_zones_deals = time_zones_deals.groupby('Time Zone').agg(sum)\n",
    "total_deals = sum(time_zones_deals['Count'])\n",
    "time_zones_deals['Perc of Deals'] = round(time_zones_deals['Count']/total_deals*100, 1)\n",
    "\n",
    "\n",
    "# building a DF focused on all companies in our CRM\n",
    "\n",
    "time_zones_norm = marketing_info[['Time Zone', 'Count']]\n",
    "time_zones_norm = pd.DataFrame(time_zones_norm)\n",
    "mountain = time_zones_norm[time_zones_norm['Time Zone'] == -6]\n",
    "west = time_zones_norm[time_zones_norm['Time Zone'] == -5]\n",
    "central = time_zones_norm[time_zones_norm['Time Zone'] == -7]\n",
    "east = time_zones_norm[time_zones_norm['Time Zone'] == -8]\n",
    "time_zones_traditional = west.append([central, mountain, east])\n",
    "time_zones_traditional = time_zones_traditional.groupby('Time Zone').agg(sum)\n",
    "total_views = sum(time_zones_traditional['Count'])\n",
    "time_zones_traditional['Perc of Views'] = round(time_zones_traditional['Count']/total_views*100, 1)\n",
    "\n",
    "# Merging the two DF\n",
    "\n",
    "tz_deal = time_zones_deals.drop(columns = ['Count'])\n",
    "tz_views = time_zones_traditional.drop(columns = ['Count'])\n",
    "tz_difference = tz_deal.merge(tz_views, left_on='Time Zone', right_on='Time Zone', how='left')\n",
    "tz_difference = tz_difference.rename(index={-8: 'Western', -7: 'Mountain', -6: 'Central', -5: 'Eastern'})"
   ]
  },
  {
   "cell_type": "code",
   "execution_count": 10,
   "metadata": {},
   "outputs": [
    {
     "data": {
      "image/png": "[encoded data removed]",
      "text/plain": [
       "<Figure size 432x288 with 1 Axes>"
      ]
     },
     "metadata": {
      "needs_background": "light"
     },
     "output_type": "display_data"
    }
   ],
   "source": [
    "ax = tz_difference.plot.bar(rot=0)"
   ]
  },
  {
   "cell_type": "markdown",
   "metadata": {},
   "source": [
    "### Building a new dataframe to look at non-mainland US timezones"
   ]
  },
  {
   "cell_type": "code",
   "execution_count": 11,
   "metadata": {},
   "outputs": [],
   "source": [
    "# building a DF focused on all companies in our CRM\n",
    "\n",
    "time_zones = marketing_info[['Time Zone', 'Count']]\n",
    "time_zones = pd.DataFrame(time_zones)\n",
    "time_zones_untraditional = time_zones[time_zones['Time Zone'] != -6]\n",
    "time_zones_untraditional = time_zones_untraditional[time_zones_untraditional['Time Zone'] != -5]\n",
    "time_zones_untraditional = time_zones_untraditional[time_zones_untraditional['Time Zone'] != -7]\n",
    "time_zones_untraditional = time_zones_untraditional[time_zones_untraditional['Time Zone'] != -8]\n",
    "time_zones_untraditional = time_zones_untraditional.groupby('Time Zone').agg(sum)"
   ]
  },
  {
   "cell_type": "code",
   "execution_count": 12,
   "metadata": {},
   "outputs": [
    {
     "data": {
      "image/png": "[encoded data removed]",
      "text/plain": [
       "<Figure size 432x288 with 1 Axes>"
      ]
     },
     "metadata": {
      "needs_background": "light"
     },
     "output_type": "display_data"
    }
   ],
   "source": [
    "plt.bar(time_zones_untraditional.index, time_zones_untraditional['Count'])\n",
    "plt.ylim(0,55)\n",
    "plt.ylabel('Number of Companies')\n",
    "plt.xlabel('Time Zones relative to GMT')\n",
    "plt.show()"
   ]
  }
 ],
 "metadata": {
  "kernelspec": {
   "display_name": "Python 3",
   "language": "python",
   "name": "python3"
  },
  "language_info": {
   "codemirror_mode": {
    "name": "ipython",
    "version": 3
   },
   "file_extension": ".py",
   "mimetype": "text/x-python",
   "name": "python",
   "nbconvert_exporter": "python",
   "pygments_lexer": "ipython3",
   "version": "3.7.6"
  }
 },
 "nbformat": 4,
 "nbformat_minor": 4
}
